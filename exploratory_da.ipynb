{
 "cells": [
  {
   "cell_type": "markdown",
   "metadata": {},
   "source": [
    "GROUP 36 PROJECT PROPOSAL"
   ]
  },
  {
   "cell_type": "markdown",
   "metadata": {},
   "source": [
    "Analyzing the Effect of Different Attributes on Heart Health: Using Cleveland Heart Disease Data"
   ]
  },
  {
   "cell_type": "markdown",
   "metadata": {},
   "source": [
    "1. Research Question"
   ]
  },
  {
   "cell_type": "markdown",
   "metadata": {},
   "source": [
    "What is the probablity of a person getting heart disease?"
   ]
  },
  {
   "cell_type": "markdown",
   "metadata": {},
   "source": [
    "2. Introduction"
   ]
  },
  {
   "cell_type": "markdown",
   "metadata": {},
   "source": [
    "As of 2018, 30.3 million U.S. adults are diagnosed with heart disease. Heart disease is a group of conditions that affect the structure or function of the heart. The four most common types of heart disease are coronary artery disease, heart valve disease, heart failure, and arrhythmia. This project aims to predict a person's likelihood of getting heart disease using the attributes, age, sex, cholesterol level, blood sugar level, chest pain, and resting blood pressure. The project will produce a predictor that has been trained with multiple folds of data so that it can accurately predict a person’s likelihood of getting heart disease. The data set given to us is from the Cleveland database primarily focuses on 14 attributes: age, sex, chest pain type, resting blood pressure, cholesterol, fasting blood sugar, resting electrocardiographic results, maximum heart rate achieved, exercise-induced angina, ST depression induced by exercise relative to rest,  number of major vessels, thal, and diagnosis of heart disease."
   ]
  },
  {
   "cell_type": "markdown",
   "metadata": {},
   "source": [
    "3. Preliminary Exploratory Data Analysis"
   ]
  },
  {
   "cell_type": "markdown",
   "metadata": {},
   "source": [
    "Import Libraries"
   ]
  },
  {
   "cell_type": "code",
   "execution_count": 1,
   "metadata": {},
   "outputs": [
    {
     "name": "stderr",
     "output_type": "stream",
     "text": [
      "── \u001b[1mAttaching packages\u001b[22m ─────────────────────────────────────── tidyverse 1.3.0 ──\n",
      "\n",
      "\u001b[32m✔\u001b[39m \u001b[34mggplot2\u001b[39m 3.3.2     \u001b[32m✔\u001b[39m \u001b[34mpurrr  \u001b[39m 0.3.4\n",
      "\u001b[32m✔\u001b[39m \u001b[34mtibble \u001b[39m 3.0.3     \u001b[32m✔\u001b[39m \u001b[34mdplyr  \u001b[39m 1.0.2\n",
      "\u001b[32m✔\u001b[39m \u001b[34mtidyr  \u001b[39m 1.1.2     \u001b[32m✔\u001b[39m \u001b[34mstringr\u001b[39m 1.4.0\n",
      "\u001b[32m✔\u001b[39m \u001b[34mreadr  \u001b[39m 1.3.1     \u001b[32m✔\u001b[39m \u001b[34mforcats\u001b[39m 0.5.0\n",
      "\n",
      "Warning message:\n",
      "“package ‘ggplot2’ was built under R version 4.0.1”\n",
      "Warning message:\n",
      "“package ‘tibble’ was built under R version 4.0.2”\n",
      "Warning message:\n",
      "“package ‘tidyr’ was built under R version 4.0.2”\n",
      "Warning message:\n",
      "“package ‘dplyr’ was built under R version 4.0.2”\n",
      "── \u001b[1mConflicts\u001b[22m ────────────────────────────────────────── tidyverse_conflicts() ──\n",
      "\u001b[31m✖\u001b[39m \u001b[34mdplyr\u001b[39m::\u001b[32mfilter()\u001b[39m masks \u001b[34mstats\u001b[39m::filter()\n",
      "\u001b[31m✖\u001b[39m \u001b[34mdplyr\u001b[39m::\u001b[32mlag()\u001b[39m    masks \u001b[34mstats\u001b[39m::lag()\n",
      "\n",
      "Warning message:\n",
      "“package ‘tidymodels’ was built under R version 4.0.2”\n",
      "── \u001b[1mAttaching packages\u001b[22m ────────────────────────────────────── tidymodels 0.1.1 ──\n",
      "\n",
      "\u001b[32m✔\u001b[39m \u001b[34mbroom    \u001b[39m 0.7.0      \u001b[32m✔\u001b[39m \u001b[34mrecipes  \u001b[39m 0.1.13\n",
      "\u001b[32m✔\u001b[39m \u001b[34mdials    \u001b[39m 0.0.9      \u001b[32m✔\u001b[39m \u001b[34mrsample  \u001b[39m 0.0.7 \n",
      "\u001b[32m✔\u001b[39m \u001b[34minfer    \u001b[39m 0.5.4      \u001b[32m✔\u001b[39m \u001b[34mtune     \u001b[39m 0.1.1 \n",
      "\u001b[32m✔\u001b[39m \u001b[34mmodeldata\u001b[39m 0.0.2      \u001b[32m✔\u001b[39m \u001b[34mworkflows\u001b[39m 0.2.0 \n",
      "\u001b[32m✔\u001b[39m \u001b[34mparsnip  \u001b[39m 0.1.3      \u001b[32m✔\u001b[39m \u001b[34myardstick\u001b[39m 0.0.7 \n",
      "\n",
      "Warning message:\n",
      "“package ‘broom’ was built under R version 4.0.2”\n",
      "Warning message:\n",
      "“package ‘dials’ was built under R version 4.0.2”\n",
      "Warning message:\n",
      "“package ‘infer’ was built under R version 4.0.3”\n",
      "Warning message:\n",
      "“package ‘modeldata’ was built under R version 4.0.1”\n",
      "Warning message:\n",
      "“package ‘parsnip’ was built under R version 4.0.2”\n",
      "Warning message:\n",
      "“package ‘recipes’ was built under R version 4.0.1”\n",
      "Warning message:\n",
      "“package ‘tune’ was built under R version 4.0.2”\n",
      "Warning message:\n",
      "“package ‘workflows’ was built under R version 4.0.2”\n",
      "Warning message:\n",
      "“package ‘yardstick’ was built under R version 4.0.2”\n",
      "── \u001b[1mConflicts\u001b[22m ───────────────────────────────────────── tidymodels_conflicts() ──\n",
      "\u001b[31m✖\u001b[39m \u001b[34mscales\u001b[39m::\u001b[32mdiscard()\u001b[39m masks \u001b[34mpurrr\u001b[39m::discard()\n",
      "\u001b[31m✖\u001b[39m \u001b[34mdplyr\u001b[39m::\u001b[32mfilter()\u001b[39m   masks \u001b[34mstats\u001b[39m::filter()\n",
      "\u001b[31m✖\u001b[39m \u001b[34mrecipes\u001b[39m::\u001b[32mfixed()\u001b[39m  masks \u001b[34mstringr\u001b[39m::fixed()\n",
      "\u001b[31m✖\u001b[39m \u001b[34mdplyr\u001b[39m::\u001b[32mlag()\u001b[39m      masks \u001b[34mstats\u001b[39m::lag()\n",
      "\u001b[31m✖\u001b[39m \u001b[34myardstick\u001b[39m::\u001b[32mspec()\u001b[39m masks \u001b[34mreadr\u001b[39m::spec()\n",
      "\u001b[31m✖\u001b[39m \u001b[34mrecipes\u001b[39m::\u001b[32mstep()\u001b[39m   masks \u001b[34mstats\u001b[39m::step()\n",
      "\n"
     ]
    }
   ],
   "source": [
    "library(tidyverse)\n",
    "library(tidymodels)\n",
    "library(RColorBrewer)\n",
    "library(ggplot2)\n",
    "library(digest)\n",
    "library(repr)"
   ]
  },
  {
   "cell_type": "markdown",
   "metadata": {},
   "source": [
    "Preview Data"
   ]
  },
  {
   "cell_type": "code",
   "execution_count": 9,
   "metadata": {},
   "outputs": [
    {
     "ename": "ERROR",
     "evalue": "Error in names(x) <- value: 'names' attribute [8] must be the same length as the vector [7]\n",
     "output_type": "error",
     "traceback": [
      "Error in names(x) <- value: 'names' attribute [8] must be the same length as the vector [7]\nTraceback:\n",
      "1. `colnames<-`(`*tmp*`, value = c(\"Age\", \"Sex\", \"cp_type\", \"rest_bp\", \n . \"serum_chol\", \"fast_bs\", \"diag_hd\", \"angio_ds\"))"
     ]
    }
   ],
   "source": [
    "dir.create(\"data_for_project\")\n",
    "\n",
    "url <- \"https://raw.githubusercontent.com/slakhwar/grp-project/main/processed.cleveland.csv\"\n",
    "\n",
    "download.file(url, destfile =\"data_for_project/processed.cleveland.csv\")\n",
    "cleveland_data <- read.csv(\"data_for_project/processed.cleveland.csv\")\n",
    "\n",
    "cleveland_p_data <- cleveland_data %>%\n",
    " select(age, sex, cp..chest.pain.type., trestbps..resting.blood.pressure., chol..serum.cholestoral.in.mg.dl., fbs..fasting.blood.sugar...120.mg.dl.,num..diagnosis.of.heart.disease..angiographic.disease.status..)\n",
    "# rename columns\n",
    " colnames(cleveland_p_data) <- c(\"Age\", \"Sex\", \"cp_type\", \"rest_bp\", \"serum_chol\", \"fast_bs\", \"diag_hd\", \"angio_ds\")\n",
    "\n",
    "head(cleveland_p_data, 10)"
   ]
  },
  {
   "cell_type": "markdown",
   "metadata": {},
   "source": [
    "Summary Statistics Table"
   ]
  },
  {
   "cell_type": "code",
   "execution_count": null,
   "metadata": {},
   "outputs": [],
   "source": [
    "cleveland_p_data_split <- initial_split(cleveland_data, prop=0.75, strata = age)\n",
    "cleveland_p_data_train <- training(cleveland_p_data_split)\n",
    "cleveland_p_data_test <- testing(cleveland_p_data_split)\n",
    "\n",
    "total_rows <- cleveland_p_data_train %>%\n",
    " count() %>%\n",
    " pull()\n",
    "\n",
    "gender_percent_table <- cleveland_p_data_train %>%\n",
    " group_by(sex) %>%\n",
    " summarise(percent = n()*100/total_rows)\n",
    "gender_percent_table\n",
    "\n",
    "asymptomatic_cp_hd <- cleveland_p_data_train %>%\n",
    "  select(age, sex, cp..chest.pain.type., num..diagnosis.of.heart.disease..angiographic.disease.status..)\n",
    "head(asymptomatic_cp_hd, 10)"
   ]
  },
  {
   "cell_type": "markdown",
   "metadata": {},
   "source": [
    "Visualization"
   ]
  },
  {
   "cell_type": "code",
   "execution_count": null,
   "metadata": {},
   "outputs": [],
   "source": [
    "hd_plot <- ggplot(cleveland_p_data_train, aes(x=age, fill=as_factor(sex))) +\n",
    " geom_histogram(binwidth=1)+\n",
    " labs(x=\"Age\", y=\"Frequency of Heart Disease\", title=\"Distribution of Heart Disease by sex\") +\n",
    " scale_fill_discrete(name = \"Gender\", labels = c(\"0(Female)\",\"1(Male)\"))\n",
    "\n",
    "\n",
    "hd_plot\n",
    "\n",
    "\n",
    "hd_cp_plot <- ggplot(cleveland_p_data_train, aes(x=num..diagnosis.of.heart.disease..angiographic.disease.status.., fill=as_factor(cp..chest.pain.type.))) +\n",
    " geom_histogram(binwidth=1) +\n",
    " labs(x=\"Stages of Heart Disease(angiographic disease status)\", y=\"Frequency of Heart Disease\", title=\"Distribution of Stages of Heart Disease by Types of Chest Pains\")+\n",
    " scale_fill_discrete(name = \"Types of Chest Pains\", labels = c(\"1(typical angina)\",\"2(atypical angina)\",\"3(non-anginal pain)\",\"4(asymptomatic)\"))\n",
    "\n",
    "\n",
    "hd_cp_plot"
   ]
  },
  {
   "cell_type": "markdown",
   "metadata": {},
   "source": [
    "4. Methods"
   ]
  },
  {
   "cell_type": "markdown",
   "metadata": {},
   "source": [
    "We will be using the data on age, sex, cholesterol, diagnosis of heart disease, resting blood pressure and chest pain type categories from our data set. \n",
    "\n",
    "In our project, we will use a linear regression and will be directly comparing mainly the categories of age and cholesterol. From there, we will further analyze the data by also taking into account the diagnosis of different heart diseases and how common the different chest pain types are in the different age groups and how they differ by sex.\n",
    "\n",
    "Since we are using multiple different categories, we will use a few different graphs.\n",
    "\n",
    "One way we will visualize our data is through bar graphs. One example of a bar graph we will use is one comparing frequency of heart disease (y) and age (x). This graph will also be separated into gender through color in the bar graph (male blue and females pink). Since we are also comparing types of chest pain in our analysis, we will also use a bar graph to analyze the frequency of the different chest pains at different stages of heart disease. \n",
    "\n",
    "We will visualize the results through a scatter plot. Our scatter plot  will compare Age (x axis) and cholesterol levels (y axis). We will also use colour and a legend to display gender (ex- male blue and female in pink). \n",
    "We will then break the graph down further into two graphs, one with just female data and one with just male data. This will allow us to see trends in all of the categories we use and then also compare them visually with ease. \n"
   ]
  },
  {
   "cell_type": "markdown",
   "metadata": {},
   "source": [
    "5. Expected Outcomes and Significance"
   ]
  },
  {
   "cell_type": "markdown",
   "metadata": {},
   "source": [
    "We suspect people with a combination of age and blood sugar level have a higher chance of getting heart disease.\n",
    "\n",
    "These findings could encourage people to watch their health closely by eating more healthily and exercising. It could also warn people with one or more of the attributes listed above to get a medical checkup.\n",
    "\n",
    "  What future questions could this lead to?\n",
    "\n",
    "How do we regulate what food is made out of to minimize blood sugar levels? And if age is most correlated to heart disease, does the food that person ate in their generation affect heart disease frequency? Does our food safety policy need to be reworked for the betterment of the health of the future generation? "
   ]
  },
  {
   "cell_type": "markdown",
   "metadata": {},
   "source": [
    "testing"
   ]
  },
  {
   "cell_type": "markdown",
   "metadata": {},
   "source": [
    "test shayna"
   ]
  },
  {
   "cell_type": "markdown",
   "metadata": {},
   "source": [
    "test new"
   ]
  },
  {
   "cell_type": "markdown",
   "metadata": {},
   "source": [
    "test_new_victoria "
   ]
  },
  {
   "cell_type": "code",
   "execution_count": null,
   "metadata": {},
   "outputs": [],
   "source": []
  }
 ],
 "metadata": {
  "kernelspec": {
   "display_name": "R",
   "language": "R",
   "name": "ir"
  },
  "language_info": {
   "codemirror_mode": "r",
   "file_extension": ".r",
   "mimetype": "text/x-r-source",
   "name": "R",
   "pygments_lexer": "r",
   "version": "4.0.0"
  }
 },
 "nbformat": 4,
 "nbformat_minor": 4
}
